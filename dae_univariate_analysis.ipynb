{
  "nbformat": 4,
  "nbformat_minor": 0,
  "metadata": {
    "colab": {
      "provenance": []
    },
    "kernelspec": {
      "name": "python3",
      "display_name": "Python 3"
    },
    "language_info": {
      "name": "python"
    }
  },
  "cells": [
    {
      "cell_type": "markdown",
      "source": [
        "# Real State Data Exploratory Analysis "
      ],
      "metadata": {
        "id": "SYdd6Gvgvqtq"
      }
    },
    {
      "cell_type": "code",
      "source": [
        "from google.colab import drive\n",
        "drive.mount(\"/content/drive\")"
      ],
      "metadata": {
        "colab": {
          "base_uri": "https://localhost:8080/"
        },
        "id": "u4Hp6etpv2Sp",
        "outputId": "8a04fb46-c058-4ed2-f493-b4bd13fd2cca"
      },
      "execution_count": 1,
      "outputs": [
        {
          "output_type": "stream",
          "name": "stdout",
          "text": [
            "Mounted at /content/drive\n"
          ]
        }
      ]
    },
    {
      "cell_type": "code",
      "source": [
        "# Basics for Data Analysis \n",
        "import numpy as np\n",
        "import pandas as pd\n",
        "# Basics for Data Visualization\n",
        "import matplotlib.pyplot as plt\n",
        "import seaborn as sns\n",
        "%matplotlib inline"
      ],
      "metadata": {
        "id": "4v1T90EjwPIf"
      },
      "execution_count": 2,
      "outputs": []
    },
    {
      "cell_type": "markdown",
      "source": [
        "og_set = original data set"
      ],
      "metadata": {
        "id": "bmZRJbZM6oQa"
      }
    },
    {
      "cell_type": "code",
      "source": [
        "og_set = pd.read_csv(\"/content/drive/MyDrive/Colab Notebooks/data_sets/Melbourne_Housing.csv\")"
      ],
      "metadata": {
        "id": "blLx2eT46UmE"
      },
      "execution_count": 3,
      "outputs": []
    },
    {
      "cell_type": "markdown",
      "source": [
        "##  Data Sanity Check"
      ],
      "metadata": {
        "id": "hgd-BQR8C-Pi"
      }
    },
    {
      "cell_type": "markdown",
      "source": [
        "Basic knowlege of the data frame \n",
        "1. head()\n",
        "2. shape\n",
        "3. info()\n",
        "4. describe()"
      ],
      "metadata": {
        "id": "v5Pr-H5w7KmU"
      }
    },
    {
      "cell_type": "code",
      "source": [
        "og_set.head() # also can use tail()"
      ],
      "metadata": {
        "colab": {
          "base_uri": "https://localhost:8080/",
          "height": 444
        },
        "id": "7DkLPdBv7C4b",
        "outputId": "6f1e784c-8970-4215-b952-447d2558dba2"
      },
      "execution_count": 4,
      "outputs": [
        {
          "output_type": "execute_result",
          "data": {
            "text/plain": [
              "         Suburb  Rooms Type        SellerG        Date  Distance  Postcode  \\\n",
              "0  Airport West      3    t         Nelson  03-09-2016      13.5    3042.0   \n",
              "1   Albert Park      2    h  hockingstuart  03-09-2016       3.3    3206.0   \n",
              "2   Albert Park      2    h        Thomson  03-09-2016       3.3    3206.0   \n",
              "3    Alphington      4    h          Brace  03-09-2016       6.4    3078.0   \n",
              "4    Alphington      3    h         Jellis  03-09-2016       6.4    3078.0   \n",
              "\n",
              "   Bedroom  Bathroom  Car  Landsize BuildingArea  YearBuilt  \\\n",
              "0      3.0       2.0  1.0     303.0          225     2016.0   \n",
              "1      2.0       1.0  0.0     120.0           82     1900.0   \n",
              "2      2.0       1.0  0.0     159.0          inf        NaN   \n",
              "3      3.0       2.0  4.0     853.0          263     1930.0   \n",
              "4      3.0       2.0  2.0     208.0          inf     2013.0   \n",
              "\n",
              "              Regionname  Propertycount    Price  \n",
              "0   Western Metropolitan           3464   840000  \n",
              "1  Southern Metropolitan           3280  1275000  \n",
              "2  Southern Metropolitan           3280  1455000  \n",
              "3  Northern Metropolitan           2211  2000000  \n",
              "4  Northern Metropolitan           2211  1110000  "
            ],
            "text/html": [
              "\n",
              "  <div id=\"df-e538b195-0677-442d-803d-26b51a678384\">\n",
              "    <div class=\"colab-df-container\">\n",
              "      <div>\n",
              "<style scoped>\n",
              "    .dataframe tbody tr th:only-of-type {\n",
              "        vertical-align: middle;\n",
              "    }\n",
              "\n",
              "    .dataframe tbody tr th {\n",
              "        vertical-align: top;\n",
              "    }\n",
              "\n",
              "    .dataframe thead th {\n",
              "        text-align: right;\n",
              "    }\n",
              "</style>\n",
              "<table border=\"1\" class=\"dataframe\">\n",
              "  <thead>\n",
              "    <tr style=\"text-align: right;\">\n",
              "      <th></th>\n",
              "      <th>Suburb</th>\n",
              "      <th>Rooms</th>\n",
              "      <th>Type</th>\n",
              "      <th>SellerG</th>\n",
              "      <th>Date</th>\n",
              "      <th>Distance</th>\n",
              "      <th>Postcode</th>\n",
              "      <th>Bedroom</th>\n",
              "      <th>Bathroom</th>\n",
              "      <th>Car</th>\n",
              "      <th>Landsize</th>\n",
              "      <th>BuildingArea</th>\n",
              "      <th>YearBuilt</th>\n",
              "      <th>Regionname</th>\n",
              "      <th>Propertycount</th>\n",
              "      <th>Price</th>\n",
              "    </tr>\n",
              "  </thead>\n",
              "  <tbody>\n",
              "    <tr>\n",
              "      <th>0</th>\n",
              "      <td>Airport West</td>\n",
              "      <td>3</td>\n",
              "      <td>t</td>\n",
              "      <td>Nelson</td>\n",
              "      <td>03-09-2016</td>\n",
              "      <td>13.5</td>\n",
              "      <td>3042.0</td>\n",
              "      <td>3.0</td>\n",
              "      <td>2.0</td>\n",
              "      <td>1.0</td>\n",
              "      <td>303.0</td>\n",
              "      <td>225</td>\n",
              "      <td>2016.0</td>\n",
              "      <td>Western Metropolitan</td>\n",
              "      <td>3464</td>\n",
              "      <td>840000</td>\n",
              "    </tr>\n",
              "    <tr>\n",
              "      <th>1</th>\n",
              "      <td>Albert Park</td>\n",
              "      <td>2</td>\n",
              "      <td>h</td>\n",
              "      <td>hockingstuart</td>\n",
              "      <td>03-09-2016</td>\n",
              "      <td>3.3</td>\n",
              "      <td>3206.0</td>\n",
              "      <td>2.0</td>\n",
              "      <td>1.0</td>\n",
              "      <td>0.0</td>\n",
              "      <td>120.0</td>\n",
              "      <td>82</td>\n",
              "      <td>1900.0</td>\n",
              "      <td>Southern Metropolitan</td>\n",
              "      <td>3280</td>\n",
              "      <td>1275000</td>\n",
              "    </tr>\n",
              "    <tr>\n",
              "      <th>2</th>\n",
              "      <td>Albert Park</td>\n",
              "      <td>2</td>\n",
              "      <td>h</td>\n",
              "      <td>Thomson</td>\n",
              "      <td>03-09-2016</td>\n",
              "      <td>3.3</td>\n",
              "      <td>3206.0</td>\n",
              "      <td>2.0</td>\n",
              "      <td>1.0</td>\n",
              "      <td>0.0</td>\n",
              "      <td>159.0</td>\n",
              "      <td>inf</td>\n",
              "      <td>NaN</td>\n",
              "      <td>Southern Metropolitan</td>\n",
              "      <td>3280</td>\n",
              "      <td>1455000</td>\n",
              "    </tr>\n",
              "    <tr>\n",
              "      <th>3</th>\n",
              "      <td>Alphington</td>\n",
              "      <td>4</td>\n",
              "      <td>h</td>\n",
              "      <td>Brace</td>\n",
              "      <td>03-09-2016</td>\n",
              "      <td>6.4</td>\n",
              "      <td>3078.0</td>\n",
              "      <td>3.0</td>\n",
              "      <td>2.0</td>\n",
              "      <td>4.0</td>\n",
              "      <td>853.0</td>\n",
              "      <td>263</td>\n",
              "      <td>1930.0</td>\n",
              "      <td>Northern Metropolitan</td>\n",
              "      <td>2211</td>\n",
              "      <td>2000000</td>\n",
              "    </tr>\n",
              "    <tr>\n",
              "      <th>4</th>\n",
              "      <td>Alphington</td>\n",
              "      <td>3</td>\n",
              "      <td>h</td>\n",
              "      <td>Jellis</td>\n",
              "      <td>03-09-2016</td>\n",
              "      <td>6.4</td>\n",
              "      <td>3078.0</td>\n",
              "      <td>3.0</td>\n",
              "      <td>2.0</td>\n",
              "      <td>2.0</td>\n",
              "      <td>208.0</td>\n",
              "      <td>inf</td>\n",
              "      <td>2013.0</td>\n",
              "      <td>Northern Metropolitan</td>\n",
              "      <td>2211</td>\n",
              "      <td>1110000</td>\n",
              "    </tr>\n",
              "  </tbody>\n",
              "</table>\n",
              "</div>\n",
              "      <button class=\"colab-df-convert\" onclick=\"convertToInteractive('df-e538b195-0677-442d-803d-26b51a678384')\"\n",
              "              title=\"Convert this dataframe to an interactive table.\"\n",
              "              style=\"display:none;\">\n",
              "        \n",
              "  <svg xmlns=\"http://www.w3.org/2000/svg\" height=\"24px\"viewBox=\"0 0 24 24\"\n",
              "       width=\"24px\">\n",
              "    <path d=\"M0 0h24v24H0V0z\" fill=\"none\"/>\n",
              "    <path d=\"M18.56 5.44l.94 2.06.94-2.06 2.06-.94-2.06-.94-.94-2.06-.94 2.06-2.06.94zm-11 1L8.5 8.5l.94-2.06 2.06-.94-2.06-.94L8.5 2.5l-.94 2.06-2.06.94zm10 10l.94 2.06.94-2.06 2.06-.94-2.06-.94-.94-2.06-.94 2.06-2.06.94z\"/><path d=\"M17.41 7.96l-1.37-1.37c-.4-.4-.92-.59-1.43-.59-.52 0-1.04.2-1.43.59L10.3 9.45l-7.72 7.72c-.78.78-.78 2.05 0 2.83L4 21.41c.39.39.9.59 1.41.59.51 0 1.02-.2 1.41-.59l7.78-7.78 2.81-2.81c.8-.78.8-2.07 0-2.86zM5.41 20L4 18.59l7.72-7.72 1.47 1.35L5.41 20z\"/>\n",
              "  </svg>\n",
              "      </button>\n",
              "      \n",
              "  <style>\n",
              "    .colab-df-container {\n",
              "      display:flex;\n",
              "      flex-wrap:wrap;\n",
              "      gap: 12px;\n",
              "    }\n",
              "\n",
              "    .colab-df-convert {\n",
              "      background-color: #E8F0FE;\n",
              "      border: none;\n",
              "      border-radius: 50%;\n",
              "      cursor: pointer;\n",
              "      display: none;\n",
              "      fill: #1967D2;\n",
              "      height: 32px;\n",
              "      padding: 0 0 0 0;\n",
              "      width: 32px;\n",
              "    }\n",
              "\n",
              "    .colab-df-convert:hover {\n",
              "      background-color: #E2EBFA;\n",
              "      box-shadow: 0px 1px 2px rgba(60, 64, 67, 0.3), 0px 1px 3px 1px rgba(60, 64, 67, 0.15);\n",
              "      fill: #174EA6;\n",
              "    }\n",
              "\n",
              "    [theme=dark] .colab-df-convert {\n",
              "      background-color: #3B4455;\n",
              "      fill: #D2E3FC;\n",
              "    }\n",
              "\n",
              "    [theme=dark] .colab-df-convert:hover {\n",
              "      background-color: #434B5C;\n",
              "      box-shadow: 0px 1px 3px 1px rgba(0, 0, 0, 0.15);\n",
              "      filter: drop-shadow(0px 1px 2px rgba(0, 0, 0, 0.3));\n",
              "      fill: #FFFFFF;\n",
              "    }\n",
              "  </style>\n",
              "\n",
              "      <script>\n",
              "        const buttonEl =\n",
              "          document.querySelector('#df-e538b195-0677-442d-803d-26b51a678384 button.colab-df-convert');\n",
              "        buttonEl.style.display =\n",
              "          google.colab.kernel.accessAllowed ? 'block' : 'none';\n",
              "\n",
              "        async function convertToInteractive(key) {\n",
              "          const element = document.querySelector('#df-e538b195-0677-442d-803d-26b51a678384');\n",
              "          const dataTable =\n",
              "            await google.colab.kernel.invokeFunction('convertToInteractive',\n",
              "                                                     [key], {});\n",
              "          if (!dataTable) return;\n",
              "\n",
              "          const docLinkHtml = 'Like what you see? Visit the ' +\n",
              "            '<a target=\"_blank\" href=https://colab.research.google.com/notebooks/data_table.ipynb>data table notebook</a>'\n",
              "            + ' to learn more about interactive tables.';\n",
              "          element.innerHTML = '';\n",
              "          dataTable['output_type'] = 'display_data';\n",
              "          await google.colab.output.renderOutput(dataTable, element);\n",
              "          const docLink = document.createElement('div');\n",
              "          docLink.innerHTML = docLinkHtml;\n",
              "          element.appendChild(docLink);\n",
              "        }\n",
              "      </script>\n",
              "    </div>\n",
              "  </div>\n",
              "  "
            ]
          },
          "metadata": {},
          "execution_count": 4
        }
      ]
    },
    {
      "cell_type": "code",
      "source": [
        "og_set.shape"
      ],
      "metadata": {
        "colab": {
          "base_uri": "https://localhost:8080/"
        },
        "id": "xopQnMAi7itY",
        "outputId": "4bb5d216-4006-4882-93d9-c081c8ce9b5f"
      },
      "execution_count": 5,
      "outputs": [
        {
          "output_type": "execute_result",
          "data": {
            "text/plain": [
              "(27114, 16)"
            ]
          },
          "metadata": {},
          "execution_count": 5
        }
      ]
    },
    {
      "cell_type": "code",
      "source": [
        "og_set.info()"
      ],
      "metadata": {
        "colab": {
          "base_uri": "https://localhost:8080/"
        },
        "id": "6f3cHPi07k-P",
        "outputId": "de1d4ef9-996e-4d21-970b-e1d6b3b51df6"
      },
      "execution_count": 6,
      "outputs": [
        {
          "output_type": "stream",
          "name": "stdout",
          "text": [
            "<class 'pandas.core.frame.DataFrame'>\n",
            "RangeIndex: 27114 entries, 0 to 27113\n",
            "Data columns (total 16 columns):\n",
            " #   Column         Non-Null Count  Dtype  \n",
            "---  ------         --------------  -----  \n",
            " 0   Suburb         27114 non-null  object \n",
            " 1   Rooms          27114 non-null  int64  \n",
            " 2   Type           27114 non-null  object \n",
            " 3   SellerG        27114 non-null  object \n",
            " 4   Date           27114 non-null  object \n",
            " 5   Distance       27113 non-null  float64\n",
            " 6   Postcode       27113 non-null  float64\n",
            " 7   Bedroom        20678 non-null  float64\n",
            " 8   Bathroom       20672 non-null  float64\n",
            " 9   Car            20297 non-null  float64\n",
            " 10  Landsize       17873 non-null  float64\n",
            " 11  BuildingArea   10543 non-null  object \n",
            " 12  YearBuilt      11985 non-null  float64\n",
            " 13  Regionname     27114 non-null  object \n",
            " 14  Propertycount  27114 non-null  int64  \n",
            " 15  Price          27114 non-null  int64  \n",
            "dtypes: float64(7), int64(3), object(6)\n",
            "memory usage: 3.3+ MB\n"
          ]
        }
      ]
    },
    {
      "cell_type": "code",
      "source": [
        "og_set.describe()"
      ],
      "metadata": {
        "colab": {
          "base_uri": "https://localhost:8080/",
          "height": 345
        },
        "id": "KtJ-4zep7qLT",
        "outputId": "46d27f8b-c3c0-4d9b-e036-67733f17a1f6"
      },
      "execution_count": 7,
      "outputs": [
        {
          "output_type": "execute_result",
          "data": {
            "text/plain": [
              "              Rooms      Distance      Postcode       Bedroom      Bathroom  \\\n",
              "count  27114.000000  27113.000000  27113.000000  20678.000000  20672.000000   \n",
              "mean       2.992218     11.278737   3113.782687      3.046184      1.591525   \n",
              "std        0.954722      6.783544    111.114271      0.955024      0.701106   \n",
              "min        1.000000      0.000000   3000.000000      0.000000      0.000000   \n",
              "25%        2.000000      6.400000   3046.000000      2.000000      1.000000   \n",
              "50%        3.000000     10.500000   3088.000000      3.000000      1.000000   \n",
              "75%        4.000000     14.000000   3153.000000      4.000000      2.000000   \n",
              "max       16.000000     48.100000   3978.000000     20.000000      9.000000   \n",
              "\n",
              "                Car      Landsize     YearBuilt  Propertycount         Price  \n",
              "count  20297.000000  17873.000000  11985.000000   27114.000000  2.711400e+04  \n",
              "mean       1.715820    560.536564   1966.618273    7564.205245  1.050564e+06  \n",
              "std        0.994487   1411.309127     36.042000    4493.596054  6.415785e+05  \n",
              "min        0.000000     50.000000   1850.000000      83.000000  8.500000e+04  \n",
              "25%        1.000000    220.000000   1950.000000    4294.000000  6.350000e+05  \n",
              "50%        2.000000    513.000000   1970.000000    6567.000000  8.710000e+05  \n",
              "75%        2.000000    664.000000   2000.000000   10412.000000  1.300000e+06  \n",
              "max       18.000000  76000.000000   2019.000000   21650.000000  1.120000e+07  "
            ],
            "text/html": [
              "\n",
              "  <div id=\"df-1c246fd1-6931-4912-8f34-f457d6249a11\">\n",
              "    <div class=\"colab-df-container\">\n",
              "      <div>\n",
              "<style scoped>\n",
              "    .dataframe tbody tr th:only-of-type {\n",
              "        vertical-align: middle;\n",
              "    }\n",
              "\n",
              "    .dataframe tbody tr th {\n",
              "        vertical-align: top;\n",
              "    }\n",
              "\n",
              "    .dataframe thead th {\n",
              "        text-align: right;\n",
              "    }\n",
              "</style>\n",
              "<table border=\"1\" class=\"dataframe\">\n",
              "  <thead>\n",
              "    <tr style=\"text-align: right;\">\n",
              "      <th></th>\n",
              "      <th>Rooms</th>\n",
              "      <th>Distance</th>\n",
              "      <th>Postcode</th>\n",
              "      <th>Bedroom</th>\n",
              "      <th>Bathroom</th>\n",
              "      <th>Car</th>\n",
              "      <th>Landsize</th>\n",
              "      <th>YearBuilt</th>\n",
              "      <th>Propertycount</th>\n",
              "      <th>Price</th>\n",
              "    </tr>\n",
              "  </thead>\n",
              "  <tbody>\n",
              "    <tr>\n",
              "      <th>count</th>\n",
              "      <td>27114.000000</td>\n",
              "      <td>27113.000000</td>\n",
              "      <td>27113.000000</td>\n",
              "      <td>20678.000000</td>\n",
              "      <td>20672.000000</td>\n",
              "      <td>20297.000000</td>\n",
              "      <td>17873.000000</td>\n",
              "      <td>11985.000000</td>\n",
              "      <td>27114.000000</td>\n",
              "      <td>2.711400e+04</td>\n",
              "    </tr>\n",
              "    <tr>\n",
              "      <th>mean</th>\n",
              "      <td>2.992218</td>\n",
              "      <td>11.278737</td>\n",
              "      <td>3113.782687</td>\n",
              "      <td>3.046184</td>\n",
              "      <td>1.591525</td>\n",
              "      <td>1.715820</td>\n",
              "      <td>560.536564</td>\n",
              "      <td>1966.618273</td>\n",
              "      <td>7564.205245</td>\n",
              "      <td>1.050564e+06</td>\n",
              "    </tr>\n",
              "    <tr>\n",
              "      <th>std</th>\n",
              "      <td>0.954722</td>\n",
              "      <td>6.783544</td>\n",
              "      <td>111.114271</td>\n",
              "      <td>0.955024</td>\n",
              "      <td>0.701106</td>\n",
              "      <td>0.994487</td>\n",
              "      <td>1411.309127</td>\n",
              "      <td>36.042000</td>\n",
              "      <td>4493.596054</td>\n",
              "      <td>6.415785e+05</td>\n",
              "    </tr>\n",
              "    <tr>\n",
              "      <th>min</th>\n",
              "      <td>1.000000</td>\n",
              "      <td>0.000000</td>\n",
              "      <td>3000.000000</td>\n",
              "      <td>0.000000</td>\n",
              "      <td>0.000000</td>\n",
              "      <td>0.000000</td>\n",
              "      <td>50.000000</td>\n",
              "      <td>1850.000000</td>\n",
              "      <td>83.000000</td>\n",
              "      <td>8.500000e+04</td>\n",
              "    </tr>\n",
              "    <tr>\n",
              "      <th>25%</th>\n",
              "      <td>2.000000</td>\n",
              "      <td>6.400000</td>\n",
              "      <td>3046.000000</td>\n",
              "      <td>2.000000</td>\n",
              "      <td>1.000000</td>\n",
              "      <td>1.000000</td>\n",
              "      <td>220.000000</td>\n",
              "      <td>1950.000000</td>\n",
              "      <td>4294.000000</td>\n",
              "      <td>6.350000e+05</td>\n",
              "    </tr>\n",
              "    <tr>\n",
              "      <th>50%</th>\n",
              "      <td>3.000000</td>\n",
              "      <td>10.500000</td>\n",
              "      <td>3088.000000</td>\n",
              "      <td>3.000000</td>\n",
              "      <td>1.000000</td>\n",
              "      <td>2.000000</td>\n",
              "      <td>513.000000</td>\n",
              "      <td>1970.000000</td>\n",
              "      <td>6567.000000</td>\n",
              "      <td>8.710000e+05</td>\n",
              "    </tr>\n",
              "    <tr>\n",
              "      <th>75%</th>\n",
              "      <td>4.000000</td>\n",
              "      <td>14.000000</td>\n",
              "      <td>3153.000000</td>\n",
              "      <td>4.000000</td>\n",
              "      <td>2.000000</td>\n",
              "      <td>2.000000</td>\n",
              "      <td>664.000000</td>\n",
              "      <td>2000.000000</td>\n",
              "      <td>10412.000000</td>\n",
              "      <td>1.300000e+06</td>\n",
              "    </tr>\n",
              "    <tr>\n",
              "      <th>max</th>\n",
              "      <td>16.000000</td>\n",
              "      <td>48.100000</td>\n",
              "      <td>3978.000000</td>\n",
              "      <td>20.000000</td>\n",
              "      <td>9.000000</td>\n",
              "      <td>18.000000</td>\n",
              "      <td>76000.000000</td>\n",
              "      <td>2019.000000</td>\n",
              "      <td>21650.000000</td>\n",
              "      <td>1.120000e+07</td>\n",
              "    </tr>\n",
              "  </tbody>\n",
              "</table>\n",
              "</div>\n",
              "      <button class=\"colab-df-convert\" onclick=\"convertToInteractive('df-1c246fd1-6931-4912-8f34-f457d6249a11')\"\n",
              "              title=\"Convert this dataframe to an interactive table.\"\n",
              "              style=\"display:none;\">\n",
              "        \n",
              "  <svg xmlns=\"http://www.w3.org/2000/svg\" height=\"24px\"viewBox=\"0 0 24 24\"\n",
              "       width=\"24px\">\n",
              "    <path d=\"M0 0h24v24H0V0z\" fill=\"none\"/>\n",
              "    <path d=\"M18.56 5.44l.94 2.06.94-2.06 2.06-.94-2.06-.94-.94-2.06-.94 2.06-2.06.94zm-11 1L8.5 8.5l.94-2.06 2.06-.94-2.06-.94L8.5 2.5l-.94 2.06-2.06.94zm10 10l.94 2.06.94-2.06 2.06-.94-2.06-.94-.94-2.06-.94 2.06-2.06.94z\"/><path d=\"M17.41 7.96l-1.37-1.37c-.4-.4-.92-.59-1.43-.59-.52 0-1.04.2-1.43.59L10.3 9.45l-7.72 7.72c-.78.78-.78 2.05 0 2.83L4 21.41c.39.39.9.59 1.41.59.51 0 1.02-.2 1.41-.59l7.78-7.78 2.81-2.81c.8-.78.8-2.07 0-2.86zM5.41 20L4 18.59l7.72-7.72 1.47 1.35L5.41 20z\"/>\n",
              "  </svg>\n",
              "      </button>\n",
              "      \n",
              "  <style>\n",
              "    .colab-df-container {\n",
              "      display:flex;\n",
              "      flex-wrap:wrap;\n",
              "      gap: 12px;\n",
              "    }\n",
              "\n",
              "    .colab-df-convert {\n",
              "      background-color: #E8F0FE;\n",
              "      border: none;\n",
              "      border-radius: 50%;\n",
              "      cursor: pointer;\n",
              "      display: none;\n",
              "      fill: #1967D2;\n",
              "      height: 32px;\n",
              "      padding: 0 0 0 0;\n",
              "      width: 32px;\n",
              "    }\n",
              "\n",
              "    .colab-df-convert:hover {\n",
              "      background-color: #E2EBFA;\n",
              "      box-shadow: 0px 1px 2px rgba(60, 64, 67, 0.3), 0px 1px 3px 1px rgba(60, 64, 67, 0.15);\n",
              "      fill: #174EA6;\n",
              "    }\n",
              "\n",
              "    [theme=dark] .colab-df-convert {\n",
              "      background-color: #3B4455;\n",
              "      fill: #D2E3FC;\n",
              "    }\n",
              "\n",
              "    [theme=dark] .colab-df-convert:hover {\n",
              "      background-color: #434B5C;\n",
              "      box-shadow: 0px 1px 3px 1px rgba(0, 0, 0, 0.15);\n",
              "      filter: drop-shadow(0px 1px 2px rgba(0, 0, 0, 0.3));\n",
              "      fill: #FFFFFF;\n",
              "    }\n",
              "  </style>\n",
              "\n",
              "      <script>\n",
              "        const buttonEl =\n",
              "          document.querySelector('#df-1c246fd1-6931-4912-8f34-f457d6249a11 button.colab-df-convert');\n",
              "        buttonEl.style.display =\n",
              "          google.colab.kernel.accessAllowed ? 'block' : 'none';\n",
              "\n",
              "        async function convertToInteractive(key) {\n",
              "          const element = document.querySelector('#df-1c246fd1-6931-4912-8f34-f457d6249a11');\n",
              "          const dataTable =\n",
              "            await google.colab.kernel.invokeFunction('convertToInteractive',\n",
              "                                                     [key], {});\n",
              "          if (!dataTable) return;\n",
              "\n",
              "          const docLinkHtml = 'Like what you see? Visit the ' +\n",
              "            '<a target=\"_blank\" href=https://colab.research.google.com/notebooks/data_table.ipynb>data table notebook</a>'\n",
              "            + ' to learn more about interactive tables.';\n",
              "          element.innerHTML = '';\n",
              "          dataTable['output_type'] = 'display_data';\n",
              "          await google.colab.output.renderOutput(dataTable, element);\n",
              "          const docLink = document.createElement('div');\n",
              "          docLink.innerHTML = docLinkHtml;\n",
              "          element.appendChild(docLink);\n",
              "        }\n",
              "      </script>\n",
              "    </div>\n",
              "  </div>\n",
              "  "
            ]
          },
          "metadata": {},
          "execution_count": 7
        }
      ]
    },
    {
      "cell_type": "code",
      "source": [
        "# Building area should be a numeric type of value but it is as a string(object) \n",
        "type(\"BuildingArea\")"
      ],
      "metadata": {
        "colab": {
          "base_uri": "https://localhost:8080/"
        },
        "id": "Kmcuqi1B8QNT",
        "outputId": "677942f1-fe01-4283-bb2d-03e9e5bc47ae"
      },
      "execution_count": 8,
      "outputs": [
        {
          "output_type": "execute_result",
          "data": {
            "text/plain": [
              "str"
            ]
          },
          "metadata": {},
          "execution_count": 8
        }
      ]
    },
    {
      "cell_type": "code",
      "source": [
        "# And if we have a date in a data set as an string(object) it is recommended to change it to a real date format \n",
        "type(\"Date\")"
      ],
      "metadata": {
        "colab": {
          "base_uri": "https://localhost:8080/"
        },
        "id": "pKKBzXLg9Til",
        "outputId": "90820647-e7aa-4617-daba-00a1dbe5cf2b"
      },
      "execution_count": 9,
      "outputs": [
        {
          "output_type": "execute_result",
          "data": {
            "text/plain": [
              "str"
            ]
          },
          "metadata": {},
          "execution_count": 9
        }
      ]
    },
    {
      "cell_type": "code",
      "source": [
        "og_set[\"Date\"] = pd.to_datetime(og_set[\"Date\"])"
      ],
      "metadata": {
        "id": "9DvrH5Z49hfW"
      },
      "execution_count": 10,
      "outputs": []
    },
    {
      "cell_type": "code",
      "source": [
        "og_set.info() # now date is in datatime64 dtype"
      ],
      "metadata": {
        "colab": {
          "base_uri": "https://localhost:8080/"
        },
        "id": "QXSZZpni94-H",
        "outputId": "e4206c33-60f6-4ded-e0a3-ff46ac3e488b"
      },
      "execution_count": 11,
      "outputs": [
        {
          "output_type": "stream",
          "name": "stdout",
          "text": [
            "<class 'pandas.core.frame.DataFrame'>\n",
            "RangeIndex: 27114 entries, 0 to 27113\n",
            "Data columns (total 16 columns):\n",
            " #   Column         Non-Null Count  Dtype         \n",
            "---  ------         --------------  -----         \n",
            " 0   Suburb         27114 non-null  object        \n",
            " 1   Rooms          27114 non-null  int64         \n",
            " 2   Type           27114 non-null  object        \n",
            " 3   SellerG        27114 non-null  object        \n",
            " 4   Date           27114 non-null  datetime64[ns]\n",
            " 5   Distance       27113 non-null  float64       \n",
            " 6   Postcode       27113 non-null  float64       \n",
            " 7   Bedroom        20678 non-null  float64       \n",
            " 8   Bathroom       20672 non-null  float64       \n",
            " 9   Car            20297 non-null  float64       \n",
            " 10  Landsize       17873 non-null  float64       \n",
            " 11  BuildingArea   10543 non-null  object        \n",
            " 12  YearBuilt      11985 non-null  float64       \n",
            " 13  Regionname     27114 non-null  object        \n",
            " 14  Propertycount  27114 non-null  int64         \n",
            " 15  Price          27114 non-null  int64         \n",
            "dtypes: datetime64[ns](1), float64(7), int64(3), object(5)\n",
            "memory usage: 3.3+ MB\n"
          ]
        }
      ]
    },
    {
      "cell_type": "code",
      "source": [
        "og_set[\"BuildingArea\"].unique()"
      ],
      "metadata": {
        "colab": {
          "base_uri": "https://localhost:8080/"
        },
        "id": "jzXFkRfz-L1k",
        "outputId": "21ca463f-10aa-4854-cbed-16ee9b913cf4"
      },
      "execution_count": 12,
      "outputs": [
        {
          "output_type": "execute_result",
          "data": {
            "text/plain": [
              "array(['225', '82', 'inf', '263', '242', '251', '117', 'missing', '76',\n",
              "       '399', '118', '103', '180', '123', '218', '129', '167', '154',\n",
              "       '275', '121', nan, '125', '255', '75', '156', '240', '268', '108',\n",
              "       '69', '140', '214', '253', '189', '215', '96', '104', '100', '313',\n",
              "       '144', '93', '110', '70', '122', '51', '147', '113', '83', '56',\n",
              "       '137', '85', '64', '175', '3558', '170', '265', '353', '138', '19',\n",
              "       '116', '87', '74', '320', '300', '210', '120', '86', '97', '200',\n",
              "       '106', '14', '161', '128', '185', '146', '133', '115', '143',\n",
              "       '150', '195', '236', '276', '188', '179', '249', '141', '34', '73',\n",
              "       '107', '84', '81', '207', '50', '264', '312', '235', '221', '183',\n",
              "       '132', '160', '186', '78', '105', '145', '62', '220', '315', '181',\n",
              "       '61', '112', '420', '226', '266', '410', '449', '356', '477',\n",
              "       '250', '95', '190', '284', '247', '213', '209', '119', '111',\n",
              "       '130', '348', '166', '44', '176', '98', '159', '79', '71', '60',\n",
              "       '33', '89', '217', '127', '187', '109', '53', '201', '12', '63',\n",
              "       '223', '102', '254', '327', '16', '165', '65', '139', '134', '280',\n",
              "       '67', '272', '38', '153', '66', '152', '135', '374', '163', '124',\n",
              "       '233', '39', '151', '279', '136', '405', '199', '158', '126', '80',\n",
              "       '57', '36', '142', '77', '435', '92', '149', '114', '349', '178',\n",
              "       '594', '274', '40', '68', '164', '204', '94', '257', '323', '314',\n",
              "       '378', '55', '91', '309', '88', '58', '172', '211', '148', '49',\n",
              "       '52', '174', '191', '335', '808', '168', '203', '520', '212',\n",
              "       '222', '171', '228', '101', '267', '90', '196', '157', '99', '256',\n",
              "       '15', '155', '162', '72', '252', '330', '177', '341', '197', '340',\n",
              "       '182', '245', '270', '42', '229', '232', '131', '297', '237',\n",
              "       '194', '173', '46', '360', '205', '45', '365', '321', '37', '304',\n",
              "       '54', '305', '244', '43', '41', '22', '169', '59', '258', '230',\n",
              "       '287', '618', '792', '355', '202', '395', '351', '325', '248',\n",
              "       '224', '426', '286', '308', '198', '260', '291', '277', '281',\n",
              "       '216', '262', '364', '30', '192', '47', '184', '25', '558', '362',\n",
              "       '375', '347', '241', '475', '413', '400', '101.37', '219', '239',\n",
              "       '123.21', '140.7481', '86.5', '30.6', '225.5', '322', '409.54',\n",
              "       '26', '156.6', '227.6', '104.63', '193', '443', '167.13', '148.5',\n",
              "       '270.18', '53.3', '98.5', '157.9351', '328', '94.3', '21', '310',\n",
              "       '95.88', '261', '105.7', '72.9', '45.4', '221.3', '113.2',\n",
              "       '186.75', '540', '127.8', '231', '106.4', '311', '234', '332',\n",
              "       '206', '259', '246', '296', '269', '306', '380', '302', '48',\n",
              "       '278', '35', '208', '467', '283', '458', '196.8', '106.2', '32',\n",
              "       '424', '430', '243', '290', '511', '500', '531', '508', '333',\n",
              "       '72.3', '66.23', '101.51', '292', '112.9', '99.5', '77.5', '293',\n",
              "       '105.23', '352', '391', '121.8', '82.6', '136.49', '502', '680',\n",
              "       '157.9352', '126.8', '100.6', '44.4', '151.54', '20', '397', '495',\n",
              "       '331', '294', '334', '303', '318', '273', '584', '958', '288',\n",
              "       '342', '354', '350', '465', '337', '317', '298', '529', '697',\n",
              "       '289', '602', '6791', '534', '227', '429', '802', '373', '358',\n",
              "       '238', '316', '393', '180.9', '826.8367', '366', '307', '625',\n",
              "       '419', '94.5', '392', '28', '116.65', '11', '134.6', '282',\n",
              "       '183.84', '431', '126.7', '18', '295', '390', '447', '271', '416',\n",
              "       '370', '660', '463', '361', '496', '324', '173.45', '134.3',\n",
              "       '464.3', '76.77', '113.76', '107.4', '255.79', '186.36', '490',\n",
              "       '103.6', '63.7', '106.76', '39.5', '423', '319', '437', '285',\n",
              "       '453', '472', '418', '487', '31', '301', '116.4', '182.85',\n",
              "       '109.5', '129.7', '665', '398', '148.47', '553', '182.9', '184.75',\n",
              "       '193.74', '68.5', '336', '346', '719', '3112', '414', '372', '525',\n",
              "       '367', '1561', '454', '720', '329', '381', '677', '439', '857',\n",
              "       '23', '503', '432', '377', '512', '425', '406', '389', '521',\n",
              "       '6178', '654', '727', '417', '560', '168.01', '306.19', '515.78',\n",
              "       '196.1', '789', '131.27', '167.87', '183.97', '199.5', '29', '446',\n",
              "       '75.45', '165.5', '263.5', '585', '516', '345', '27', '444', '427',\n",
              "       '326', '518', '13', '411', '1022', '339', '461', '376', '513',\n",
              "       '836', '464', '386', '603', '613', '179.3', '142.6', '147.2',\n",
              "       '225.98', '113.81', '401', '737', '530', '82.3', '110.87', '450',\n",
              "       '673', '109.98', '122.25', '105.9', '101.7', '106.9', '93.82',\n",
              "       '132.6', '154.3', '178.74', '88.3', '80.7', '89.25', '181.6',\n",
              "       '104.4', '180.56', '123.5', '1143', '506', '575', '859', '653',\n",
              "       '999', '445', '438', '686', '649', '736', '371.6122', '199.73',\n",
              "       '118.54', '298.21', '169.5', '42.2', '135.5', '266.76', '272.4',\n",
              "       '177.8', '139.4', '700', '766', '538', '528', '650', '368', '544',\n",
              "       '557', '396', '638', '101.76', '363', '634', '195.0964', '470',\n",
              "       '130.52', '547', '111.04', '63.4', '92.5', '115.96', '121.84',\n",
              "       '122.86', '114.2', '266.53', '78.54', '85.35', '1041', '607',\n",
              "       '478', '407', '344', '338', '501', '448', '357', '408', '412',\n",
              "       '466', '739', '614', '421', '385', '68.11', '153.1', '85.2',\n",
              "       '93.84', '124.45', '210.68', '200.71', '81.79', '934', '129.92',\n",
              "       '43.7', '113.6', '66.32', '35.64', '61.6', '388.5', '672'],\n",
              "      dtype=object)"
            ]
          },
          "metadata": {},
          "execution_count": 12
        }
      ]
    },
    {
      "cell_type": "code",
      "source": [
        "# there are some strings into this particular column that change the whole dtype \n",
        "# with a quick scan you can say its \"inf\" and \"missing\"\n",
        "# so what we will try to do is to change those strings into something py understands (nan)"
      ],
      "metadata": {
        "id": "TBtJBxC4-fwz"
      },
      "execution_count": 13,
      "outputs": []
    },
    {
      "cell_type": "code",
      "source": [
        "# check how many are strings and how many are actually numeric values \n",
        "og_set[\"BuildingArea\"].apply(type).value_counts()"
      ],
      "metadata": {
        "colab": {
          "base_uri": "https://localhost:8080/"
        },
        "id": "GUC8VmLl_PKG",
        "outputId": "ac58c5f7-3fe6-4a54-d3bb-cd3dc8dbeb96"
      },
      "execution_count": 14,
      "outputs": [
        {
          "output_type": "execute_result",
          "data": {
            "text/plain": [
              "<class 'float'>    16571\n",
              "<class 'str'>      10543\n",
              "Name: BuildingArea, dtype: int64"
            ]
          },
          "metadata": {},
          "execution_count": 14
        }
      ]
    },
    {
      "cell_type": "code",
      "source": [
        "# using numpy replace we will change the strings inf and missing with not a number\n",
        "og_set[\"BuildingArea\"] = og_set[\"BuildingArea\"].replace([\"inf\", \"missing\"], np.nan)\n",
        "# there is other way to do oit throught importing again the data set and adding at the end\n",
        "# \"link to the dataset\", na_values = [\"missing\", \"inf\"] "
      ],
      "metadata": {
        "id": "rUQ5ETVR_vRj"
      },
      "execution_count": 15,
      "outputs": []
    },
    {
      "cell_type": "code",
      "source": [
        "# now to be able to work properly with ease we will make every entry of the column a float \n",
        "og_set[\"BuildingArea\"] = og_set[\"BuildingArea\"].astype(float)"
      ],
      "metadata": {
        "id": "_A_gxSJfAfKH"
      },
      "execution_count": 16,
      "outputs": []
    },
    {
      "cell_type": "code",
      "source": [
        "og_set[\"BuildingArea\"].apply(type).value_counts()"
      ],
      "metadata": {
        "colab": {
          "base_uri": "https://localhost:8080/"
        },
        "id": "DpLpTlnTBBS-",
        "outputId": "dac17359-507b-4a7a-d880-46aae47cb15b"
      },
      "execution_count": 17,
      "outputs": [
        {
          "output_type": "execute_result",
          "data": {
            "text/plain": [
              "<class 'float'>    27114\n",
              "Name: BuildingArea, dtype: int64"
            ]
          },
          "metadata": {},
          "execution_count": 17
        }
      ]
    },
    {
      "cell_type": "code",
      "source": [
        "# to know how many nan are\n",
        "og_set.isnull().sum()"
      ],
      "metadata": {
        "colab": {
          "base_uri": "https://localhost:8080/"
        },
        "id": "ksP1JMbNCAwW",
        "outputId": "072b90df-8e98-489e-f341-f2faba907249"
      },
      "execution_count": 18,
      "outputs": [
        {
          "output_type": "execute_result",
          "data": {
            "text/plain": [
              "Suburb               0\n",
              "Rooms                0\n",
              "Type                 0\n",
              "SellerG              0\n",
              "Date                 0\n",
              "Distance             1\n",
              "Postcode             1\n",
              "Bedroom           6436\n",
              "Bathroom          6442\n",
              "Car               6817\n",
              "Landsize          9241\n",
              "BuildingArea     16585\n",
              "YearBuilt        15129\n",
              "Regionname           0\n",
              "Propertycount        0\n",
              "Price                0\n",
              "dtype: int64"
            ]
          },
          "metadata": {},
          "execution_count": 18
        }
      ]
    },
    {
      "cell_type": "code",
      "source": [
        "# as you can see distance to yearbuildt \n",
        "#8 columns "
      ],
      "metadata": {
        "id": "phTaHspCBpVv"
      },
      "execution_count": 19,
      "outputs": []
    },
    {
      "cell_type": "code",
      "source": [
        "# to know if theres dupliates \n",
        "og_set.duplicated().sum()"
      ],
      "metadata": {
        "colab": {
          "base_uri": "https://localhost:8080/"
        },
        "id": "JwOlvxmdBy-8",
        "outputId": "245e4a38-4d4c-493b-e1be-06123fae8e77"
      },
      "execution_count": 20,
      "outputs": [
        {
          "output_type": "execute_result",
          "data": {
            "text/plain": [
              "11"
            ]
          },
          "metadata": {},
          "execution_count": 20
        }
      ]
    },
    {
      "cell_type": "code",
      "source": [
        "# lets remove those duplicates \n",
        "og_set.drop_duplicates(inplace=True)\n",
        "# this last line of code ruins the index so lets fix the index \n",
        "og_set.reset_index(drop=True, inplace=True)"
      ],
      "metadata": {
        "id": "banE4nVECAwZ"
      },
      "execution_count": 21,
      "outputs": []
    },
    {
      "cell_type": "code",
      "source": [
        "# now we dont have duplicates\n",
        "og_set.duplicated().sum()"
      ],
      "metadata": {
        "colab": {
          "base_uri": "https://localhost:8080/"
        },
        "id": "2vYl8ii-CuqD",
        "outputId": "a0d073d3-d29b-44a1-f983-8f8895cf0eb4"
      },
      "execution_count": 22,
      "outputs": [
        {
          "output_type": "execute_result",
          "data": {
            "text/plain": [
              "0"
            ]
          },
          "metadata": {},
          "execution_count": 22
        }
      ]
    },
    {
      "cell_type": "code",
      "source": [
        "og_set.describe().T"
      ],
      "metadata": {
        "colab": {
          "base_uri": "https://localhost:8080/",
          "height": 395
        },
        "id": "yCzymq4JC24f",
        "outputId": "373e16c4-b141-4218-e201-b87ac0ef70c2"
      },
      "execution_count": 23,
      "outputs": [
        {
          "output_type": "execute_result",
          "data": {
            "text/plain": [
              "                 count          mean            std      min       25%  \\\n",
              "Rooms          27103.0  2.992473e+00       0.954667      1.0       2.0   \n",
              "Distance       27102.0  1.127993e+01       6.783958      0.0       6.4   \n",
              "Postcode       27102.0  3.113787e+03     111.129025   3000.0    3046.0   \n",
              "Bedroom        20678.0  3.046184e+00       0.955024      0.0       2.0   \n",
              "Bathroom       20672.0  1.591525e+00       0.701106      0.0       1.0   \n",
              "Car            20297.0  1.715820e+00       0.994487      0.0       1.0   \n",
              "Landsize       17873.0  5.605366e+02    1411.309127     50.0     220.0   \n",
              "BuildingArea   10529.0  1.545119e+02     130.583872     11.0     101.0   \n",
              "YearBuilt      11985.0  1.966618e+03      36.042000   1850.0    1950.0   \n",
              "Propertycount  27103.0  7.564741e+03    4494.028347     83.0    4294.0   \n",
              "Price          27103.0  1.050664e+06  641660.161498  85000.0  635000.0   \n",
              "\n",
              "                    50%        75%         max  \n",
              "Rooms               3.0        4.0        16.0  \n",
              "Distance           10.5       14.0        48.1  \n",
              "Postcode         3088.0     3153.0      3978.0  \n",
              "Bedroom             3.0        4.0        20.0  \n",
              "Bathroom            1.0        2.0         9.0  \n",
              "Car                 2.0        2.0        18.0  \n",
              "Landsize          513.0      664.0     76000.0  \n",
              "BuildingArea      133.0      183.0      6791.0  \n",
              "YearBuilt        1970.0     2000.0      2019.0  \n",
              "Propertycount    6567.0    10412.0     21650.0  \n",
              "Price          871000.0  1300000.0  11200000.0  "
            ],
            "text/html": [
              "\n",
              "  <div id=\"df-b1e2b224-f545-4ba2-8c59-b2d7610b63cf\">\n",
              "    <div class=\"colab-df-container\">\n",
              "      <div>\n",
              "<style scoped>\n",
              "    .dataframe tbody tr th:only-of-type {\n",
              "        vertical-align: middle;\n",
              "    }\n",
              "\n",
              "    .dataframe tbody tr th {\n",
              "        vertical-align: top;\n",
              "    }\n",
              "\n",
              "    .dataframe thead th {\n",
              "        text-align: right;\n",
              "    }\n",
              "</style>\n",
              "<table border=\"1\" class=\"dataframe\">\n",
              "  <thead>\n",
              "    <tr style=\"text-align: right;\">\n",
              "      <th></th>\n",
              "      <th>count</th>\n",
              "      <th>mean</th>\n",
              "      <th>std</th>\n",
              "      <th>min</th>\n",
              "      <th>25%</th>\n",
              "      <th>50%</th>\n",
              "      <th>75%</th>\n",
              "      <th>max</th>\n",
              "    </tr>\n",
              "  </thead>\n",
              "  <tbody>\n",
              "    <tr>\n",
              "      <th>Rooms</th>\n",
              "      <td>27103.0</td>\n",
              "      <td>2.992473e+00</td>\n",
              "      <td>0.954667</td>\n",
              "      <td>1.0</td>\n",
              "      <td>2.0</td>\n",
              "      <td>3.0</td>\n",
              "      <td>4.0</td>\n",
              "      <td>16.0</td>\n",
              "    </tr>\n",
              "    <tr>\n",
              "      <th>Distance</th>\n",
              "      <td>27102.0</td>\n",
              "      <td>1.127993e+01</td>\n",
              "      <td>6.783958</td>\n",
              "      <td>0.0</td>\n",
              "      <td>6.4</td>\n",
              "      <td>10.5</td>\n",
              "      <td>14.0</td>\n",
              "      <td>48.1</td>\n",
              "    </tr>\n",
              "    <tr>\n",
              "      <th>Postcode</th>\n",
              "      <td>27102.0</td>\n",
              "      <td>3.113787e+03</td>\n",
              "      <td>111.129025</td>\n",
              "      <td>3000.0</td>\n",
              "      <td>3046.0</td>\n",
              "      <td>3088.0</td>\n",
              "      <td>3153.0</td>\n",
              "      <td>3978.0</td>\n",
              "    </tr>\n",
              "    <tr>\n",
              "      <th>Bedroom</th>\n",
              "      <td>20678.0</td>\n",
              "      <td>3.046184e+00</td>\n",
              "      <td>0.955024</td>\n",
              "      <td>0.0</td>\n",
              "      <td>2.0</td>\n",
              "      <td>3.0</td>\n",
              "      <td>4.0</td>\n",
              "      <td>20.0</td>\n",
              "    </tr>\n",
              "    <tr>\n",
              "      <th>Bathroom</th>\n",
              "      <td>20672.0</td>\n",
              "      <td>1.591525e+00</td>\n",
              "      <td>0.701106</td>\n",
              "      <td>0.0</td>\n",
              "      <td>1.0</td>\n",
              "      <td>1.0</td>\n",
              "      <td>2.0</td>\n",
              "      <td>9.0</td>\n",
              "    </tr>\n",
              "    <tr>\n",
              "      <th>Car</th>\n",
              "      <td>20297.0</td>\n",
              "      <td>1.715820e+00</td>\n",
              "      <td>0.994487</td>\n",
              "      <td>0.0</td>\n",
              "      <td>1.0</td>\n",
              "      <td>2.0</td>\n",
              "      <td>2.0</td>\n",
              "      <td>18.0</td>\n",
              "    </tr>\n",
              "    <tr>\n",
              "      <th>Landsize</th>\n",
              "      <td>17873.0</td>\n",
              "      <td>5.605366e+02</td>\n",
              "      <td>1411.309127</td>\n",
              "      <td>50.0</td>\n",
              "      <td>220.0</td>\n",
              "      <td>513.0</td>\n",
              "      <td>664.0</td>\n",
              "      <td>76000.0</td>\n",
              "    </tr>\n",
              "    <tr>\n",
              "      <th>BuildingArea</th>\n",
              "      <td>10529.0</td>\n",
              "      <td>1.545119e+02</td>\n",
              "      <td>130.583872</td>\n",
              "      <td>11.0</td>\n",
              "      <td>101.0</td>\n",
              "      <td>133.0</td>\n",
              "      <td>183.0</td>\n",
              "      <td>6791.0</td>\n",
              "    </tr>\n",
              "    <tr>\n",
              "      <th>YearBuilt</th>\n",
              "      <td>11985.0</td>\n",
              "      <td>1.966618e+03</td>\n",
              "      <td>36.042000</td>\n",
              "      <td>1850.0</td>\n",
              "      <td>1950.0</td>\n",
              "      <td>1970.0</td>\n",
              "      <td>2000.0</td>\n",
              "      <td>2019.0</td>\n",
              "    </tr>\n",
              "    <tr>\n",
              "      <th>Propertycount</th>\n",
              "      <td>27103.0</td>\n",
              "      <td>7.564741e+03</td>\n",
              "      <td>4494.028347</td>\n",
              "      <td>83.0</td>\n",
              "      <td>4294.0</td>\n",
              "      <td>6567.0</td>\n",
              "      <td>10412.0</td>\n",
              "      <td>21650.0</td>\n",
              "    </tr>\n",
              "    <tr>\n",
              "      <th>Price</th>\n",
              "      <td>27103.0</td>\n",
              "      <td>1.050664e+06</td>\n",
              "      <td>641660.161498</td>\n",
              "      <td>85000.0</td>\n",
              "      <td>635000.0</td>\n",
              "      <td>871000.0</td>\n",
              "      <td>1300000.0</td>\n",
              "      <td>11200000.0</td>\n",
              "    </tr>\n",
              "  </tbody>\n",
              "</table>\n",
              "</div>\n",
              "      <button class=\"colab-df-convert\" onclick=\"convertToInteractive('df-b1e2b224-f545-4ba2-8c59-b2d7610b63cf')\"\n",
              "              title=\"Convert this dataframe to an interactive table.\"\n",
              "              style=\"display:none;\">\n",
              "        \n",
              "  <svg xmlns=\"http://www.w3.org/2000/svg\" height=\"24px\"viewBox=\"0 0 24 24\"\n",
              "       width=\"24px\">\n",
              "    <path d=\"M0 0h24v24H0V0z\" fill=\"none\"/>\n",
              "    <path d=\"M18.56 5.44l.94 2.06.94-2.06 2.06-.94-2.06-.94-.94-2.06-.94 2.06-2.06.94zm-11 1L8.5 8.5l.94-2.06 2.06-.94-2.06-.94L8.5 2.5l-.94 2.06-2.06.94zm10 10l.94 2.06.94-2.06 2.06-.94-2.06-.94-.94-2.06-.94 2.06-2.06.94z\"/><path d=\"M17.41 7.96l-1.37-1.37c-.4-.4-.92-.59-1.43-.59-.52 0-1.04.2-1.43.59L10.3 9.45l-7.72 7.72c-.78.78-.78 2.05 0 2.83L4 21.41c.39.39.9.59 1.41.59.51 0 1.02-.2 1.41-.59l7.78-7.78 2.81-2.81c.8-.78.8-2.07 0-2.86zM5.41 20L4 18.59l7.72-7.72 1.47 1.35L5.41 20z\"/>\n",
              "  </svg>\n",
              "      </button>\n",
              "      \n",
              "  <style>\n",
              "    .colab-df-container {\n",
              "      display:flex;\n",
              "      flex-wrap:wrap;\n",
              "      gap: 12px;\n",
              "    }\n",
              "\n",
              "    .colab-df-convert {\n",
              "      background-color: #E8F0FE;\n",
              "      border: none;\n",
              "      border-radius: 50%;\n",
              "      cursor: pointer;\n",
              "      display: none;\n",
              "      fill: #1967D2;\n",
              "      height: 32px;\n",
              "      padding: 0 0 0 0;\n",
              "      width: 32px;\n",
              "    }\n",
              "\n",
              "    .colab-df-convert:hover {\n",
              "      background-color: #E2EBFA;\n",
              "      box-shadow: 0px 1px 2px rgba(60, 64, 67, 0.3), 0px 1px 3px 1px rgba(60, 64, 67, 0.15);\n",
              "      fill: #174EA6;\n",
              "    }\n",
              "\n",
              "    [theme=dark] .colab-df-convert {\n",
              "      background-color: #3B4455;\n",
              "      fill: #D2E3FC;\n",
              "    }\n",
              "\n",
              "    [theme=dark] .colab-df-convert:hover {\n",
              "      background-color: #434B5C;\n",
              "      box-shadow: 0px 1px 3px 1px rgba(0, 0, 0, 0.15);\n",
              "      filter: drop-shadow(0px 1px 2px rgba(0, 0, 0, 0.3));\n",
              "      fill: #FFFFFF;\n",
              "    }\n",
              "  </style>\n",
              "\n",
              "      <script>\n",
              "        const buttonEl =\n",
              "          document.querySelector('#df-b1e2b224-f545-4ba2-8c59-b2d7610b63cf button.colab-df-convert');\n",
              "        buttonEl.style.display =\n",
              "          google.colab.kernel.accessAllowed ? 'block' : 'none';\n",
              "\n",
              "        async function convertToInteractive(key) {\n",
              "          const element = document.querySelector('#df-b1e2b224-f545-4ba2-8c59-b2d7610b63cf');\n",
              "          const dataTable =\n",
              "            await google.colab.kernel.invokeFunction('convertToInteractive',\n",
              "                                                     [key], {});\n",
              "          if (!dataTable) return;\n",
              "\n",
              "          const docLinkHtml = 'Like what you see? Visit the ' +\n",
              "            '<a target=\"_blank\" href=https://colab.research.google.com/notebooks/data_table.ipynb>data table notebook</a>'\n",
              "            + ' to learn more about interactive tables.';\n",
              "          element.innerHTML = '';\n",
              "          dataTable['output_type'] = 'display_data';\n",
              "          await google.colab.output.renderOutput(dataTable, element);\n",
              "          const docLink = document.createElement('div');\n",
              "          docLink.innerHTML = docLinkHtml;\n",
              "          element.appendChild(docLink);\n",
              "        }\n",
              "      </script>\n",
              "    </div>\n",
              "  </div>\n",
              "  "
            ]
          },
          "metadata": {},
          "execution_count": 23
        }
      ]
    },
    {
      "cell_type": "code",
      "source": [
        "#postcode it apears a number even though we know it should be more a string so lets see \n",
        "# the total number of unique values in the postcode column \n",
        "og_set[\"Postcode\"].nunique() \n",
        "# unique gives you all \n",
        "# nunique the number of unique values"
      ],
      "metadata": {
        "colab": {
          "base_uri": "https://localhost:8080/"
        },
        "id": "o9OWLXTIDPW2",
        "outputId": "a755f726-c224-4a9e-f52d-f7e52a998c4a"
      },
      "execution_count": 24,
      "outputs": [
        {
          "output_type": "execute_result",
          "data": {
            "text/plain": [
              "209"
            ]
          },
          "metadata": {},
          "execution_count": 24
        }
      ]
    },
    {
      "cell_type": "code",
      "source": [
        "# lets see the number of categorical variables \n",
        "# this is a really useful code\n",
        "categorical_columns = [\"Suburb\", \"Type\", \"SellerG\", \"Regionname\"]\n",
        "for i in categorical_columns:\n",
        "    print(og_set[i].value_counts())\n",
        "    print(\"-\" * 50)"
      ],
      "metadata": {
        "colab": {
          "base_uri": "https://localhost:8080/"
        },
        "id": "DspASOsFWUmF",
        "outputId": "85c34609-3207-44e5-9e93-53f23bbd3ee3"
      },
      "execution_count": 25,
      "outputs": [
        {
          "output_type": "stream",
          "name": "stdout",
          "text": [
            "Reservoir         724\n",
            "Bentleigh East    493\n",
            "Richmond          437\n",
            "Preston           410\n",
            "Brunswick         383\n",
            "                 ... \n",
            "Wandin North        1\n",
            "Ferny Creek         1\n",
            "Tecoma              1\n",
            "Montrose            1\n",
            "viewbank            1\n",
            "Name: Suburb, Length: 345, dtype: int64\n",
            "--------------------------------------------------\n",
            "h    18394\n",
            "u     5882\n",
            "t     2827\n",
            "Name: Type, dtype: int64\n",
            "--------------------------------------------------\n",
            "Nelson           2733\n",
            "Jellis           2516\n",
            "Barry            2385\n",
            "hockingstuart    2096\n",
            "Ray              1574\n",
            "                 ... \n",
            "Allan               1\n",
            "Jim                 1\n",
            "iProperty           1\n",
            "Batty               1\n",
            "Icon                1\n",
            "Name: SellerG, Length: 347, dtype: int64\n",
            "--------------------------------------------------\n",
            "Southern Metropolitan         8480\n",
            "Northern Metropolitan         7809\n",
            "Western Metropolitan          5792\n",
            "Eastern Metropolitan          3264\n",
            "South-Eastern Metropolitan    1336\n",
            "Northern Victoria              165\n",
            "Eastern Victoria               163\n",
            "Western Victoria                94\n",
            "Name: Regionname, dtype: int64\n",
            "--------------------------------------------------\n"
          ]
        }
      ]
    },
    {
      "cell_type": "code",
      "source": [
        "# lets see it but in percentage \n",
        "for i in categorical_columns:\n",
        "    print(og_set[i].value_counts(normalize = True))\n",
        "    print(\"-\" * 50)"
      ],
      "metadata": {
        "colab": {
          "base_uri": "https://localhost:8080/"
        },
        "id": "UgfDpa3_YObI",
        "outputId": "7ac617b1-4b2e-4eed-daa4-3ac226a39225"
      },
      "execution_count": 26,
      "outputs": [
        {
          "output_type": "stream",
          "name": "stdout",
          "text": [
            "Reservoir         0.026713\n",
            "Bentleigh East    0.018190\n",
            "Richmond          0.016124\n",
            "Preston           0.015127\n",
            "Brunswick         0.014131\n",
            "                    ...   \n",
            "Wandin North      0.000037\n",
            "Ferny Creek       0.000037\n",
            "Tecoma            0.000037\n",
            "Montrose          0.000037\n",
            "viewbank          0.000037\n",
            "Name: Suburb, Length: 345, dtype: float64\n",
            "--------------------------------------------------\n",
            "h    0.678670\n",
            "u    0.217024\n",
            "t    0.104306\n",
            "Name: Type, dtype: float64\n",
            "--------------------------------------------------\n",
            "Nelson           0.100838\n",
            "Jellis           0.092831\n",
            "Barry            0.087998\n",
            "hockingstuart    0.077335\n",
            "Ray              0.058075\n",
            "                   ...   \n",
            "Allan            0.000037\n",
            "Jim              0.000037\n",
            "iProperty        0.000037\n",
            "Batty            0.000037\n",
            "Icon             0.000037\n",
            "Name: SellerG, Length: 347, dtype: float64\n",
            "--------------------------------------------------\n",
            "Southern Metropolitan         0.312880\n",
            "Northern Metropolitan         0.288123\n",
            "Western Metropolitan          0.213703\n",
            "Eastern Metropolitan          0.120429\n",
            "South-Eastern Metropolitan    0.049293\n",
            "Northern Victoria             0.006088\n",
            "Eastern Victoria              0.006014\n",
            "Western Victoria              0.003468\n",
            "Name: Regionname, dtype: float64\n",
            "--------------------------------------------------\n"
          ]
        }
      ]
    },
    {
      "cell_type": "markdown",
      "source": [
        "### Analysis post sanity check of the data set \n",
        "\n",
        "\n",
        "### **Preliminary** Results\n",
        "\n",
        "*   The ds had some issues with strings making a whole column an object dtype so I changed that, remove any kind of string and replacing them with nan \n",
        "*   The date was not in datetime64 dtype so it had to be done manually \n",
        "*   There are probably outliers because some of the max values in the columns rooms, bedrooms, bathroom and cars\n",
        "*  Reservoir is the suburn with more entrys, h the type of house more common, Nelson the guy with more sells and the southern metropolitan is the region with more houses in this particular dataset\n",
        "\n",
        "\n",
        "\n",
        "\n",
        "\n",
        "\n",
        "\n"
      ],
      "metadata": {
        "id": "CTbpXpfNf0Qv"
      }
    },
    {
      "cell_type": "markdown",
      "source": [
        "## Univariate Analysis "
      ],
      "metadata": {
        "id": "8vxs5tlQR2TR"
      }
    },
    {
      "cell_type": "markdown",
      "source": [
        "### Distance"
      ],
      "metadata": {
        "id": "qUjMssCVWjT-"
      }
    },
    {
      "cell_type": "code",
      "source": [
        "sns.histplot(data = og_set, x = \"Distance\", stat = \"density\", bins = 25, kde = True, color = \"lightblue\");"
      ],
      "metadata": {
        "colab": {
          "base_uri": "https://localhost:8080/",
          "height": 279
        },
        "id": "LUjImCHgRzY-",
        "outputId": "e93de46e-033c-4b69-f305-ec934cfc171d"
      },
      "execution_count": 36,
      "outputs": [
        {
          "output_type": "display_data",
          "data": {
            "text/plain": [
              "<Figure size 432x288 with 1 Axes>"
            ],
            "image/png": "[encoded data removed]"
          },
          "metadata": {
            "needs_background": "light"
          }
        }
      ]
    },
    {
      "cell_type": "code",
      "source": [
        "sns.boxplot(data = og_set, x = \"Distance\", color = \"lightgreen\");\n",
        "# a lot of outliers "
      ],
      "metadata": {
        "colab": {
          "base_uri": "https://localhost:8080/",
          "height": 279
        },
        "id": "Lar4upomXDdW",
        "outputId": "a41ad9c6-a2e6-4bd0-8b45-8ba74e6244b3"
      },
      "execution_count": 38,
      "outputs": [
        {
          "output_type": "display_data",
          "data": {
            "text/plain": [
              "<Figure size 432x288 with 1 Axes>"
            ],
            "image/png": "[encoded data removed]"
          },
          "metadata": {
            "needs_background": "light"
          }
        }
      ]
    },
    {
      "cell_type": "markdown",
      "source": [
        "\n",
        "*   Skewed towards right \n",
        "*   Many outliers \n",
        "*   If distance is gretear than 25 km is an outlier\n",
        "\n"
      ],
      "metadata": {
        "id": "GSAmw3WMXMzA"
      }
    },
    {
      "cell_type": "code",
      "source": [
        "# how many outliers are \n",
        "og_set.loc[og_set[\"Distance\"]>25].shape\n",
        "# a lot"
      ],
      "metadata": {
        "colab": {
          "base_uri": "https://localhost:8080/"
        },
        "id": "nb7kvzqKn0D9",
        "outputId": "8edb8f48-f99f-42f3-8cf7-f5c69055d88f"
      },
      "execution_count": 126,
      "outputs": [
        {
          "output_type": "execute_result",
          "data": {
            "text/plain": [
              "(1206, 16)"
            ]
          },
          "metadata": {},
          "execution_count": 126
        }
      ]
    },
    {
      "cell_type": "markdown",
      "source": [
        "### Landsize"
      ],
      "metadata": {
        "id": "xBH-d7MTedbC"
      }
    },
    {
      "cell_type": "markdown",
      "source": [
        "It is in sqmeters so to make it easear I will divide them by a million sqmeters so that will give me a sqkilometer scale"
      ],
      "metadata": {
        "id": "CcNxc2gQgLg9"
      }
    },
    {
      "cell_type": "code",
      "source": [
        "sns.displot(data = og_set, x = og_set[\"Landsize\"]/1000000, kind = \"kde\", color = \"yellow\");"
      ],
      "metadata": {
        "colab": {
          "base_uri": "https://localhost:8080/",
          "height": 369
        },
        "id": "XLpxklBbea6i",
        "outputId": "33495bb9-2ec2-4fa8-80ee-d6777d8f4a46"
      },
      "execution_count": 100,
      "outputs": [
        {
          "output_type": "display_data",
          "data": {
            "text/plain": [
              "<Figure size 360x360 with 1 Axes>"
            ],
            "image/png": "[encoded data removed]"
          },
          "metadata": {
            "needs_background": "light"
          }
        }
      ]
    },
    {
      "cell_type": "code",
      "source": [
        "sns.boxplot(data = og_set, x = og_set[\"Landsize\"]/1000000, color = \"blue\");"
      ],
      "metadata": {
        "colab": {
          "base_uri": "https://localhost:8080/",
          "height": 279
        },
        "id": "DCxjiCkefRgS",
        "outputId": "a4c1cab3-5859-429d-e84a-b31cfc4f618b"
      },
      "execution_count": 99,
      "outputs": [
        {
          "output_type": "display_data",
          "data": {
            "text/plain": [
              "<Figure size 432x288 with 1 Axes>"
            ],
            "image/png": "[encoded data removed]"
          },
          "metadata": {
            "needs_background": "light"
          }
        }
      ]
    },
    {
      "cell_type": "markdown",
      "source": [
        "\n",
        "\n",
        "*   Highly skewed to right \n",
        "*   Many outliers \n",
        "\n"
      ],
      "metadata": {
        "id": "Q59G_2TmgnFn"
      }
    },
    {
      "cell_type": "code",
      "source": [
        "# To see wich rows have a ls greater than 0.01 skm\n",
        "og_set.loc[og_set[\"Landsize\"]>60000]"
      ],
      "metadata": {
        "colab": {
          "base_uri": "https://localhost:8080/",
          "height": 211
        },
        "id": "tb40fadsg48A",
        "outputId": "5f0f9234-d471-4c8e-9c87-6137eac376b0"
      },
      "execution_count": 111,
      "outputs": [
        {
          "output_type": "execute_result",
          "data": {
            "text/plain": [
              "             Suburb  Rooms Type    SellerG       Date  Distance  Postcode  \\\n",
              "23897        Silvan      3    h  Harcourts 2017-05-27      34.6    3795.0   \n",
              "25079  Balwyn North      3    h        Kay 2016-08-28       9.2    3104.0   \n",
              "\n",
              "       Bedroom  Bathroom  Car  Landsize  BuildingArea  YearBuilt  \\\n",
              "23897      3.0       2.0  2.0   76000.0           NaN        NaN   \n",
              "25079      3.0       1.0  2.0   75100.0           NaN        NaN   \n",
              "\n",
              "                  Regionname  Propertycount    Price  \n",
              "23897       Eastern Victoria            457  1085000  \n",
              "25079  Southern Metropolitan           7809  2000000  "
            ],
            "text/html": [
              "\n",
              "  <div id=\"df-c43eaa68-c249-470f-96e8-a634cc33ab58\">\n",
              "    <div class=\"colab-df-container\">\n",
              "      <div>\n",
              "<style scoped>\n",
              "    .dataframe tbody tr th:only-of-type {\n",
              "        vertical-align: middle;\n",
              "    }\n",
              "\n",
              "    .dataframe tbody tr th {\n",
              "        vertical-align: top;\n",
              "    }\n",
              "\n",
              "    .dataframe thead th {\n",
              "        text-align: right;\n",
              "    }\n",
              "</style>\n",
              "<table border=\"1\" class=\"dataframe\">\n",
              "  <thead>\n",
              "    <tr style=\"text-align: right;\">\n",
              "      <th></th>\n",
              "      <th>Suburb</th>\n",
              "      <th>Rooms</th>\n",
              "      <th>Type</th>\n",
              "      <th>SellerG</th>\n",
              "      <th>Date</th>\n",
              "      <th>Distance</th>\n",
              "      <th>Postcode</th>\n",
              "      <th>Bedroom</th>\n",
              "      <th>Bathroom</th>\n",
              "      <th>Car</th>\n",
              "      <th>Landsize</th>\n",
              "      <th>BuildingArea</th>\n",
              "      <th>YearBuilt</th>\n",
              "      <th>Regionname</th>\n",
              "      <th>Propertycount</th>\n",
              "      <th>Price</th>\n",
              "    </tr>\n",
              "  </thead>\n",
              "  <tbody>\n",
              "    <tr>\n",
              "      <th>23897</th>\n",
              "      <td>Silvan</td>\n",
              "      <td>3</td>\n",
              "      <td>h</td>\n",
              "      <td>Harcourts</td>\n",
              "      <td>2017-05-27</td>\n",
              "      <td>34.6</td>\n",
              "      <td>3795.0</td>\n",
              "      <td>3.0</td>\n",
              "      <td>2.0</td>\n",
              "      <td>2.0</td>\n",
              "      <td>76000.0</td>\n",
              "      <td>NaN</td>\n",
              "      <td>NaN</td>\n",
              "      <td>Eastern Victoria</td>\n",
              "      <td>457</td>\n",
              "      <td>1085000</td>\n",
              "    </tr>\n",
              "    <tr>\n",
              "      <th>25079</th>\n",
              "      <td>Balwyn North</td>\n",
              "      <td>3</td>\n",
              "      <td>h</td>\n",
              "      <td>Kay</td>\n",
              "      <td>2016-08-28</td>\n",
              "      <td>9.2</td>\n",
              "      <td>3104.0</td>\n",
              "      <td>3.0</td>\n",
              "      <td>1.0</td>\n",
              "      <td>2.0</td>\n",
              "      <td>75100.0</td>\n",
              "      <td>NaN</td>\n",
              "      <td>NaN</td>\n",
              "      <td>Southern Metropolitan</td>\n",
              "      <td>7809</td>\n",
              "      <td>2000000</td>\n",
              "    </tr>\n",
              "  </tbody>\n",
              "</table>\n",
              "</div>\n",
              "      <button class=\"colab-df-convert\" onclick=\"convertToInteractive('df-c43eaa68-c249-470f-96e8-a634cc33ab58')\"\n",
              "              title=\"Convert this dataframe to an interactive table.\"\n",
              "              style=\"display:none;\">\n",
              "        \n",
              "  <svg xmlns=\"http://www.w3.org/2000/svg\" height=\"24px\"viewBox=\"0 0 24 24\"\n",
              "       width=\"24px\">\n",
              "    <path d=\"M0 0h24v24H0V0z\" fill=\"none\"/>\n",
              "    <path d=\"M18.56 5.44l.94 2.06.94-2.06 2.06-.94-2.06-.94-.94-2.06-.94 2.06-2.06.94zm-11 1L8.5 8.5l.94-2.06 2.06-.94-2.06-.94L8.5 2.5l-.94 2.06-2.06.94zm10 10l.94 2.06.94-2.06 2.06-.94-2.06-.94-.94-2.06-.94 2.06-2.06.94z\"/><path d=\"M17.41 7.96l-1.37-1.37c-.4-.4-.92-.59-1.43-.59-.52 0-1.04.2-1.43.59L10.3 9.45l-7.72 7.72c-.78.78-.78 2.05 0 2.83L4 21.41c.39.39.9.59 1.41.59.51 0 1.02-.2 1.41-.59l7.78-7.78 2.81-2.81c.8-.78.8-2.07 0-2.86zM5.41 20L4 18.59l7.72-7.72 1.47 1.35L5.41 20z\"/>\n",
              "  </svg>\n",
              "      </button>\n",
              "      \n",
              "  <style>\n",
              "    .colab-df-container {\n",
              "      display:flex;\n",
              "      flex-wrap:wrap;\n",
              "      gap: 12px;\n",
              "    }\n",
              "\n",
              "    .colab-df-convert {\n",
              "      background-color: #E8F0FE;\n",
              "      border: none;\n",
              "      border-radius: 50%;\n",
              "      cursor: pointer;\n",
              "      display: none;\n",
              "      fill: #1967D2;\n",
              "      height: 32px;\n",
              "      padding: 0 0 0 0;\n",
              "      width: 32px;\n",
              "    }\n",
              "\n",
              "    .colab-df-convert:hover {\n",
              "      background-color: #E2EBFA;\n",
              "      box-shadow: 0px 1px 2px rgba(60, 64, 67, 0.3), 0px 1px 3px 1px rgba(60, 64, 67, 0.15);\n",
              "      fill: #174EA6;\n",
              "    }\n",
              "\n",
              "    [theme=dark] .colab-df-convert {\n",
              "      background-color: #3B4455;\n",
              "      fill: #D2E3FC;\n",
              "    }\n",
              "\n",
              "    [theme=dark] .colab-df-convert:hover {\n",
              "      background-color: #434B5C;\n",
              "      box-shadow: 0px 1px 3px 1px rgba(0, 0, 0, 0.15);\n",
              "      filter: drop-shadow(0px 1px 2px rgba(0, 0, 0, 0.3));\n",
              "      fill: #FFFFFF;\n",
              "    }\n",
              "  </style>\n",
              "\n",
              "      <script>\n",
              "        const buttonEl =\n",
              "          document.querySelector('#df-c43eaa68-c249-470f-96e8-a634cc33ab58 button.colab-df-convert');\n",
              "        buttonEl.style.display =\n",
              "          google.colab.kernel.accessAllowed ? 'block' : 'none';\n",
              "\n",
              "        async function convertToInteractive(key) {\n",
              "          const element = document.querySelector('#df-c43eaa68-c249-470f-96e8-a634cc33ab58');\n",
              "          const dataTable =\n",
              "            await google.colab.kernel.invokeFunction('convertToInteractive',\n",
              "                                                     [key], {});\n",
              "          if (!dataTable) return;\n",
              "\n",
              "          const docLinkHtml = 'Like what you see? Visit the ' +\n",
              "            '<a target=\"_blank\" href=https://colab.research.google.com/notebooks/data_table.ipynb>data table notebook</a>'\n",
              "            + ' to learn more about interactive tables.';\n",
              "          element.innerHTML = '';\n",
              "          dataTable['output_type'] = 'display_data';\n",
              "          await google.colab.output.renderOutput(dataTable, element);\n",
              "          const docLink = document.createElement('div');\n",
              "          docLink.innerHTML = docLinkHtml;\n",
              "          element.appendChild(docLink);\n",
              "        }\n",
              "      </script>\n",
              "    </div>\n",
              "  </div>\n",
              "  "
            ]
          },
          "metadata": {},
          "execution_count": 111
        }
      ]
    },
    {
      "cell_type": "markdown",
      "source": [
        "### Building Area"
      ],
      "metadata": {
        "id": "8oi4UwRoiNZD"
      }
    },
    {
      "cell_type": "code",
      "source": [
        "sns.displot(data = og_set, x = og_set[\"BuildingArea\"], kind = \"kde\", color = \"orange\");"
      ],
      "metadata": {
        "colab": {
          "base_uri": "https://localhost:8080/",
          "height": 369
        },
        "id": "i9lQsAdZiMfU",
        "outputId": "1ada79f9-b7ba-4f3b-a98a-92c9277dbfe3"
      },
      "execution_count": 112,
      "outputs": [
        {
          "output_type": "display_data",
          "data": {
            "text/plain": [
              "<Figure size 360x360 with 1 Axes>"
            ],
            "image/png": "[encoded data removed]"
          },
          "metadata": {
            "needs_background": "light"
          }
        }
      ]
    },
    {
      "cell_type": "code",
      "source": [
        "sns.boxplot(data = og_set, x = og_set[\"BuildingArea\"], color = \"pink\");"
      ],
      "metadata": {
        "colab": {
          "base_uri": "https://localhost:8080/",
          "height": 279
        },
        "id": "6g1Kb3Oaidkr",
        "outputId": "e6f49cf8-e4d9-42d7-d77d-945df80aaccf"
      },
      "execution_count": 114,
      "outputs": [
        {
          "output_type": "display_data",
          "data": {
            "text/plain": [
              "<Figure size 432x288 with 1 Axes>"
            ],
            "image/png": "[encoded data removed]"
          },
          "metadata": {
            "needs_background": "light"
          }
        }
      ]
    },
    {
      "cell_type": "markdown",
      "source": [
        "\n",
        "\n",
        "*   Also skewed towards right\n",
        "*   It has many outliers but after 2k there are a few ones that I may have to check out in detail later \n",
        "\n"
      ],
      "metadata": {
        "id": "6lITZP-hitJm"
      }
    },
    {
      "cell_type": "markdown",
      "source": [
        "### Price"
      ],
      "metadata": {
        "id": "v9EjV8afjXMk"
      }
    },
    {
      "cell_type": "code",
      "source": [
        "sns.histplot(data = og_set, x = og_set[\"Price\"], bins = 50, color = \"lightblue\");"
      ],
      "metadata": {
        "colab": {
          "base_uri": "https://localhost:8080/",
          "height": 279
        },
        "id": "6InmKZGvmUHC",
        "outputId": "5fe936dd-39d0-48ae-b8b8-637e0dc7fc24"
      },
      "execution_count": 117,
      "outputs": [
        {
          "output_type": "display_data",
          "data": {
            "text/plain": [
              "<Figure size 432x288 with 1 Axes>"
            ],
            "image/png": "[encoded data removed]"
          },
          "metadata": {
            "needs_background": "light"
          }
        }
      ]
    },
    {
      "cell_type": "code",
      "source": [
        "sns.boxplot(data = og_set, x = \"Price\", color = \"purple\");"
      ],
      "metadata": {
        "colab": {
          "base_uri": "https://localhost:8080/",
          "height": 279
        },
        "id": "R6z_OvF0mmLH",
        "outputId": "d67c9c9b-be77-4bde-97ef-91349ae4a5a5"
      },
      "execution_count": 122,
      "outputs": [
        {
          "output_type": "display_data",
          "data": {
            "text/plain": [
              "<Figure size 432x288 with 1 Axes>"
            ],
            "image/png": "[encoded data removed]"
          },
          "metadata": {
            "needs_background": "light"
          }
        }
      ]
    },
    {
      "cell_type": "markdown",
      "source": [
        "\n",
        "\n",
        "*  Skewed right\n",
        "*  outliers greater than 7 Million will need more analysis \n",
        "\n"
      ],
      "metadata": {
        "id": "a_vR4nKlm44k"
      }
    },
    {
      "cell_type": "markdown",
      "source": [
        "### Rooms "
      ],
      "metadata": {
        "id": "zRlyIHJcnUBA"
      }
    },
    {
      "cell_type": "code",
      "source": [
        "sns.countplot( data = og_set, x =\"Rooms\");"
      ],
      "metadata": {
        "colab": {
          "base_uri": "https://localhost:8080/",
          "height": 279
        },
        "id": "g-jGgzwko_BY",
        "outputId": "4abbcde9-01ad-426d-de35-6801daa1dc61"
      },
      "execution_count": 134,
      "outputs": [
        {
          "output_type": "display_data",
          "data": {
            "text/plain": [
              "<Figure size 432x288 with 1 Axes>"
            ],
            "image/png": "[encoded data removed]"
          },
          "metadata": {
            "needs_background": "light"
          }
        }
      ]
    },
    {
      "cell_type": "code",
      "source": [
        "sns.boxplot(data = og_set, x = \"Rooms\", color = \"red\");"
      ],
      "metadata": {
        "colab": {
          "base_uri": "https://localhost:8080/",
          "height": 279
        },
        "id": "O_3MyxcmnWIs",
        "outputId": "379339ab-d778-48c2-aca6-c224415f9f00"
      },
      "execution_count": 123,
      "outputs": [
        {
          "output_type": "display_data",
          "data": {
            "text/plain": [
              "<Figure size 432x288 with 1 Axes>"
            ],
            "image/png": "[encoded data removed]"
          },
          "metadata": {
            "needs_background": "light"
          }
        }
      ]
    },
    {
      "cell_type": "code",
      "source": [
        "# how many houses has more than seven rooms \n",
        "og_set.loc[og_set[\"Rooms\"]>7].shape"
      ],
      "metadata": {
        "colab": {
          "base_uri": "https://localhost:8080/"
        },
        "id": "1IYAdFNXnkZN",
        "outputId": "2ba7a996-faad-4992-e331-0c09fe26fa38"
      },
      "execution_count": 124,
      "outputs": [
        {
          "output_type": "execute_result",
          "data": {
            "text/plain": [
              "(23, 16)"
            ]
          },
          "metadata": {},
          "execution_count": 124
        }
      ]
    },
    {
      "cell_type": "code",
      "source": [
        "# what type are the properties \n",
        "og_set.loc[og_set[\"Rooms\"]>7, \"Type\"].value_counts() # if you use normalize = True it will be in %"
      ],
      "metadata": {
        "colab": {
          "base_uri": "https://localhost:8080/"
        },
        "id": "rNMfXhiQoOPT",
        "outputId": "52f2f6c2-3c8b-4891-b97c-809a09158181"
      },
      "execution_count": 128,
      "outputs": [
        {
          "output_type": "execute_result",
          "data": {
            "text/plain": [
              "h    21\n",
              "u     2\n",
              "Name: Type, dtype: int64"
            ]
          },
          "metadata": {},
          "execution_count": 128
        }
      ]
    },
    {
      "cell_type": "markdown",
      "source": [
        "\n",
        "\n",
        "*  Skewed right but the most normal distibution in the whole data frame\n",
        "*  Its pretty rare to see a house with more than 7 rooms and for that instance there are not as many outliers as in Distance for example\n",
        "\n"
      ],
      "metadata": {
        "id": "cb9ujMYko84T"
      }
    },
    {
      "cell_type": "markdown",
      "source": [
        "### Region Name"
      ],
      "metadata": {
        "id": "wQgcduQyolMS"
      }
    },
    {
      "cell_type": "code",
      "source": [
        "sns.countplot(data = og_set, x = \"Regionname\" );\n",
        "plt.xticks(rotation = 90);"
      ],
      "metadata": {
        "colab": {
          "base_uri": "https://localhost:8080/",
          "height": 406
        },
        "id": "Cq9xVrUIonDk",
        "outputId": "83e69b45-fd04-4c87-881b-cc24ef3f959b"
      },
      "execution_count": 131,
      "outputs": [
        {
          "output_type": "display_data",
          "data": {
            "text/plain": [
              "<Figure size 432x288 with 1 Axes>"
            ],
            "image/png": "[encoded data removed]"
          },
          "metadata": {
            "needs_background": "light"
          }
        }
      ]
    }
  ]
}